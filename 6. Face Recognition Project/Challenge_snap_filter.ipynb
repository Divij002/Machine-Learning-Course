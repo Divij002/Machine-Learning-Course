{
 "cells": [
  {
   "cell_type": "markdown",
   "id": "85a88b30",
   "metadata": {},
   "source": [
    "# Challenge - Snapchat Filter\n",
    "\n",
    "- In this problem, you will be building snapchat like face filters - eyeglasses and moustache\n",
    "\n",
    "- You will be given an input image and two image templates(one for sunglasses & moustache , you task is to overlay the eyeglasses and moustache on the given character. A sample input output is show below. To detect the facial keypoints like position of eyes and nose, we also provide you with haarcascade xml files in the training data.)\n",
    "\n",
    "- Bonus - Try to place these filters in LIVE stream taken from your webcam and display it \n",
    "\n",
    "- Submission Format For the given input image, submit a CSV file where each ith row contains the BGR pixel values for the ith pixel of modified image."
   ]
  },
  {
   "cell_type": "code",
   "execution_count": 135,
   "id": "8b69b09e",
   "metadata": {},
   "outputs": [],
   "source": [
    "import cv2\n",
    "import numpy as np\n",
    "import pandas as pd\n",
    "import matplotlib.pyplot as plt"
   ]
  },
  {
   "cell_type": "markdown",
   "id": "17d7c6bd",
   "metadata": {},
   "source": [
    "### Loading assets"
   ]
  },
  {
   "cell_type": "code",
   "execution_count": 136,
   "id": "b489f138",
   "metadata": {},
   "outputs": [],
   "source": [
    "img = cv2.imread('./snap_filter_Train/Jamie_Before.jpg')\n",
    "glasses_img = cv2.imread('./snap_filter_Train/glasses.png', cv2.IMREAD_UNCHANGED)\n",
    "mustache_img = cv2.imread('./snap_filter_Train/mustache.png', cv2.IMREAD_UNCHANGED)\n",
    "\n",
    "\n",
    "gray_img = cv2.cvtColor(img, cv2.COLOR_BGR2GRAY)\n"
   ]
  },
  {
   "cell_type": "code",
   "execution_count": 137,
   "id": "6c8d0551",
   "metadata": {},
   "outputs": [],
   "source": [
    "eyes_cascade = cv2.CascadeClassifier(\"./snap_filter_Train/third-party/frontalEyes35x16.xml\")\n",
    "nose_cascade = cv2.CascadeClassifier(\"./snap_filter_Train/third-party/Nose18x15.xml\")"
   ]
  },
  {
   "cell_type": "markdown",
   "id": "338f33ac",
   "metadata": {},
   "source": [
    "### Detecting facial points"
   ]
  },
  {
   "cell_type": "code",
   "execution_count": 138,
   "id": "b1706e12",
   "metadata": {},
   "outputs": [],
   "source": [
    "eyes = eyes_cascade.detectMultiScale(gray_img,1.05,5)\n",
    "nose = nose_cascade.detectMultiScale(\n",
    "    gray_img, \n",
    "    scaleFactor=1.15,   # try 1.1–1.3\n",
    "    minNeighbors=8,     # try 5–8\n",
    "    minSize=(80,80),     # avoid tiny junk\n",
    "    maxSize=(100,100)\n",
    ")"
   ]
  },
  {
   "cell_type": "markdown",
   "id": "b9538196",
   "metadata": {},
   "source": [
    "#### Sizing and placing"
   ]
  },
  {
   "cell_type": "code",
   "execution_count": 139,
   "id": "686a0a56",
   "metadata": {},
   "outputs": [
    {
     "data": {
      "text/plain": [
       "'for (x, y, w, h) in eyes:\\n        cv2.rectangle(img, (x, y), (x+w, y+h), (0, 255, 0), 2)  \\n\\nfor (x, y, w, h) in nose:\\n        cv2.rectangle(img, (x, y), (x+w, y+h), (0, 255, 0), 2)  \\n\\n\\n\\nplt.imshow(cv2.cvtColor(img, cv2.COLOR_BGR2RGB))'"
      ]
     },
     "execution_count": 139,
     "metadata": {},
     "output_type": "execute_result"
    }
   ],
   "source": [
    "'''for (x, y, w, h) in eyes:\n",
    "        cv2.rectangle(img, (x, y), (x+w, y+h), (0, 255, 0), 2)  \n",
    "\n",
    "for (x, y, w, h) in nose:\n",
    "        cv2.rectangle(img, (x, y), (x+w, y+h), (0, 255, 0), 2)  \n",
    "\n",
    "\n",
    "\n",
    "plt.imshow(cv2.cvtColor(img, cv2.COLOR_BGR2RGB))'''"
   ]
  },
  {
   "cell_type": "code",
   "execution_count": null,
   "id": "60d50af1",
   "metadata": {},
   "outputs": [
    {
     "ename": "error",
     "evalue": "OpenCV(4.10.0) :-1: error: (-5:Bad argument) in function 'imshow'\n> Overload resolution failed:\n>  - imshow() missing required argument 'mat' (pos 2)\n>  - imshow() missing required argument 'mat' (pos 2)\n>  - imshow() missing required argument 'mat' (pos 2)\n",
     "output_type": "error",
     "traceback": [
      "\u001b[31m---------------------------------------------------------------------------\u001b[39m",
      "\u001b[31merror\u001b[39m                                     Traceback (most recent call last)",
      "\u001b[36mCell\u001b[39m\u001b[36m \u001b[39m\u001b[32mIn[141]\u001b[39m\u001b[32m, line 9\u001b[39m\n\u001b[32m      6\u001b[39m     mustache_resized = cv2.resize(mustache_img, (w, h))[:, :, :\u001b[32m3\u001b[39m]\n\u001b[32m      7\u001b[39m     img[y:y+h, x:x+w] = mustache_resized\n\u001b[32m----> \u001b[39m\u001b[32m9\u001b[39m \u001b[43mcv2\u001b[49m\u001b[43m.\u001b[49m\u001b[43mimshow\u001b[49m\u001b[43m(\u001b[49m\u001b[43mcv2\u001b[49m\u001b[43m.\u001b[49m\u001b[43mcvtColor\u001b[49m\u001b[43m(\u001b[49m\u001b[43mimg\u001b[49m\u001b[43m,\u001b[49m\u001b[43m \u001b[49m\u001b[43mcv2\u001b[49m\u001b[43m.\u001b[49m\u001b[43mCOLOR_BGR2RGB\u001b[49m\u001b[43m)\u001b[49m\u001b[43m)\u001b[49m\n",
      "\u001b[31merror\u001b[39m: OpenCV(4.10.0) :-1: error: (-5:Bad argument) in function 'imshow'\n> Overload resolution failed:\n>  - imshow() missing required argument 'mat' (pos 2)\n>  - imshow() missing required argument 'mat' (pos 2)\n>  - imshow() missing required argument 'mat' (pos 2)\n"
     ]
    }
   ],
   "source": [
    "for (x, y, w, h) in eyes:\n",
    "    glasses_resized = cv2.resize(glasses_img, (w, h))[:, :, :3]\n",
    "    img[y:y+h, x:x+w] = glasses_resized\n",
    "\n",
    "for (x, y, w, h) in nose:\n",
    "    mustache_resized = cv2.resize(mustache_img, (w, h))[:, :, :3]\n",
    "    img[y:y+h, x:x+w] = mustache_resized\n",
    "\n",
    ".imshow(cv2.cvtColor(img, cv2.COLOR_BGR2RGB))"
   ]
  },
  {
   "cell_type": "code",
   "execution_count": null,
   "id": "c67841d3",
   "metadata": {},
   "outputs": [],
   "source": []
  }
 ],
 "metadata": {
  "kernelspec": {
   "display_name": "python_course",
   "language": "python",
   "name": "python3"
  },
  "language_info": {
   "codemirror_mode": {
    "name": "ipython",
    "version": 3
   },
   "file_extension": ".py",
   "mimetype": "text/x-python",
   "name": "python",
   "nbconvert_exporter": "python",
   "pygments_lexer": "ipython3",
   "version": "3.11.13"
  }
 },
 "nbformat": 4,
 "nbformat_minor": 5
}

{
 "cells": [
  {
   "cell_type": "markdown",
   "id": "6642c206",
   "metadata": {},
   "source": [
    "# NLTK - Natural Language Processing Toolkit\n",
    "- Leading platform to build python prgrams to work with Human language data."
   ]
  },
  {
   "cell_type": "code",
   "execution_count": 77,
   "id": "d63708b7",
   "metadata": {},
   "outputs": [],
   "source": [
    "import numpy as np\n",
    "import pandas as pd\n",
    "import matplotlib.pyplot as plt\n",
    "import nltk"
   ]
  },
  {
   "cell_type": "code",
   "execution_count": 78,
   "id": "47dd106a",
   "metadata": {},
   "outputs": [],
   "source": [
    "#nltk.download()"
   ]
  },
  {
   "cell_type": "markdown",
   "id": "8235dc39",
   "metadata": {},
   "source": [
    "## Bag of Words Pipeline\n",
    "Way to convert text to numerical data which can be then fed to the classifier to get the prediction\n",
    "- Get the Data/Corpus \n",
    "- Tokenisation/Stopword Removal \n",
    "- Stemming \n",
    "- Building a Vocab \n",
    "- Vectorization \n",
    "- Classification "
   ]
  },
  {
   "cell_type": "markdown",
   "id": "b11fbfdb",
   "metadata": {},
   "source": [
    "### 1. Getting the Data/Corpus\n",
    "Corpus - A large collection of text"
   ]
  },
  {
   "cell_type": "code",
   "execution_count": 79,
   "id": "b9834d71",
   "metadata": {},
   "outputs": [],
   "source": [
    "\n",
    "from nltk.corpus import brown"
   ]
  },
  {
   "cell_type": "code",
   "execution_count": 80,
   "id": "c426d959",
   "metadata": {},
   "outputs": [
    {
     "name": "stdout",
     "output_type": "stream",
     "text": [
      "['adventure', 'belles_lettres', 'editorial', 'fiction', 'government', 'hobbies', 'humor', 'learned', 'lore', 'mystery', 'news', 'religion', 'reviews', 'romance', 'science_fiction']\n"
     ]
    }
   ],
   "source": [
    "print(brown.categories())"
   ]
  },
  {
   "cell_type": "code",
   "execution_count": 81,
   "id": "61652bdb",
   "metadata": {},
   "outputs": [
    {
     "data": {
      "text/plain": [
       "4249"
      ]
     },
     "execution_count": 81,
     "metadata": {},
     "output_type": "execute_result"
    }
   ],
   "source": [
    "data = brown.sents(categories='fiction')\n",
    "len(data)"
   ]
  },
  {
   "cell_type": "code",
   "execution_count": 82,
   "id": "429d800a",
   "metadata": {},
   "outputs": [
    {
     "data": {
      "text/plain": [
       "'Thirty-three'"
      ]
     },
     "execution_count": 82,
     "metadata": {},
     "output_type": "execute_result"
    }
   ],
   "source": [
    "# First sentence in fiction category\n",
    "' '.join(data[0])"
   ]
  },
  {
   "cell_type": "markdown",
   "id": "9e1c4a46",
   "metadata": {},
   "source": [
    "### 2. Tokenisation and Stopword Removal\n",
    "\n",
    "- Tokenization  \n",
    "    - Splitting text into small pieces called tokens (usually words or sentences).  \n",
    "    - Example: \"I went to the market.\" → [\"I\", \"went\", \"to\", \"the\", \"market\", \".\"]\n",
    "\n",
    "- Stopword removal  \n",
    "    - Removing very common words that usually add little meaning (like \"the\", \"is\", \"and\").  \n",
    "    - Example: [\"I\", \"went\", \"to\", \"the\", \"market\"] → [\"went\", \"market\"]\n",
    "\n",
    "#### Tokenization"
   ]
  },
  {
   "cell_type": "code",
   "execution_count": 83,
   "id": "31735b3c",
   "metadata": {},
   "outputs": [],
   "source": [
    "document = \"\"\"It was a very pleasant day. The weather was cool and there were light showers. I went to the market to by some fruits. \"\"\"\n",
    "\n",
    "sentence = \"Send all the 50 documents related to chapters 1,2,3 at divij@cb.com\""
   ]
  },
  {
   "cell_type": "code",
   "execution_count": 84,
   "id": "bf743545",
   "metadata": {},
   "outputs": [],
   "source": [
    "from nltk.tokenize import sent_tokenize, word_tokenize"
   ]
  },
  {
   "cell_type": "code",
   "execution_count": 85,
   "id": "5915c3fa",
   "metadata": {},
   "outputs": [
    {
     "name": "stdout",
     "output_type": "stream",
     "text": [
      "['It was a very pleasant day.', 'The weather was cool and there were light showers.', 'I went to the market to by some fruits.'] 3\n"
     ]
    }
   ],
   "source": [
    "sents = sent_tokenize(document)\n",
    "print(sents, len(sents))"
   ]
  },
  {
   "cell_type": "code",
   "execution_count": 86,
   "id": "8b665886",
   "metadata": {},
   "outputs": [
    {
     "data": {
      "text/plain": [
       "['Send',\n",
       " 'all',\n",
       " 'the',\n",
       " '50',\n",
       " 'documents',\n",
       " 'related',\n",
       " 'to',\n",
       " 'chapters',\n",
       " '1,2,3',\n",
       " 'at',\n",
       " 'divij@cb.com']"
      ]
     },
     "execution_count": 86,
     "metadata": {},
     "output_type": "execute_result"
    }
   ],
   "source": [
    "sentence.split() #python function - not useful for NLP as it doesn't handle punctuation"
   ]
  },
  {
   "cell_type": "code",
   "execution_count": 87,
   "id": "1883987f",
   "metadata": {},
   "outputs": [
    {
     "data": {
      "text/plain": [
       "['Send',\n",
       " 'all',\n",
       " 'the',\n",
       " '50',\n",
       " 'documents',\n",
       " 'related',\n",
       " 'to',\n",
       " 'chapters',\n",
       " '1,2,3',\n",
       " 'at',\n",
       " 'divij',\n",
       " '@',\n",
       " 'cb.com']"
      ]
     },
     "execution_count": 87,
     "metadata": {},
     "output_type": "execute_result"
    }
   ],
   "source": [
    "# Tokenization using NLTK\n",
    "words = word_tokenize(sentence)\n",
    "words"
   ]
  },
  {
   "cell_type": "markdown",
   "id": "e517a415",
   "metadata": {},
   "source": [
    "#### Stopwords"
   ]
  },
  {
   "cell_type": "code",
   "execution_count": 88,
   "id": "f61dd7de",
   "metadata": {},
   "outputs": [
    {
     "name": "stdout",
     "output_type": "stream",
     "text": [
      "{'wasn', 'm', \"aren't\", 'all', 'are', \"couldn't\", 'not', \"weren't\", 'don', 'hadn', 'd', 'its', 'until', 'in', 'same', 'when', 'being', 'did', 'herself', 'themselves', \"needn't\", \"he's\", 't', 'will', 'having', 've', 'who', 'been', \"he'll\", \"they'd\", 'be', \"you've\", 'doesn', 'myself', 'any', 'shouldn', 'than', 'whom', \"we've\", 'ourselves', 'needn', 'and', \"we're\", 'has', 'me', \"wouldn't\", 'up', 'if', 'ma', 'both', \"hadn't\", 'we', 'hers', 'before', 'himself', 'yourself', \"it's\", 'out', 'because', 'those', 'other', 'through', \"hasn't\", 'haven', 'ours', 'shan', 'on', 'under', 'a', 'mightn', 'once', \"it'd\", 'him', \"he'd\", \"she'd\", 'that', 'them', 'mustn', \"you'd\", 's', 'there', 'can', 'which', 'down', 'most', 'were', 'further', 'wouldn', 'ain', 'about', 'from', \"haven't\", 'how', 'my', 'these', 'was', 'i', 'into', 'too', \"didn't\", 'at', \"i'll\", 'couldn', 'between', \"she'll\", \"isn't\", \"that'll\", 'is', 'isn', 'they', 'to', 'yours', 'of', 'had', 'doing', 'above', 'she', \"you're\", 'theirs', 'here', 'won', 'the', \"i'm\", \"they're\", \"mightn't\", 'hasn', 'against', 'have', 'what', 'o', 'below', 'an', \"it'll\", 'own', 'off', 'just', 'now', 'over', \"wasn't\", 'only', 'your', 'each', 'during', 'then', \"they'll\", \"shouldn't\", 'you', 'or', 'does', 'aren', 'his', 'while', \"i've\", 'more', 'nor', \"you'll\", 'by', 'with', \"don't\", 're', \"she's\", 'so', 'do', 'as', 'yourselves', 'but', 'no', 'y', \"shan't\", \"mustn't\", 'itself', 'after', 'very', 'again', 'for', 'her', \"i'd\", 'where', \"doesn't\", 'll', 'am', 'such', \"should've\", 'should', 'their', 'this', \"won't\", 'some', 'it', \"we'll\", \"we'd\", \"they've\", 'didn', 'he', 'few', 'why', 'our', 'weren'}\n"
     ]
    }
   ],
   "source": [
    "from nltk.corpus import stopwords\n",
    "\n",
    "sw = set(stopwords.words('english'))\n",
    "print(sw)"
   ]
  },
  {
   "cell_type": "code",
   "execution_count": 89,
   "id": "38ee0bd3",
   "metadata": {},
   "outputs": [],
   "source": [
    "# function to remove stopwards from a sentence/list of words\n",
    "\n",
    "def remove_stopwords(text, stopwords):\n",
    "    useful_words = [word for word in text if word.lower() not in stopwords]\n",
    "    return useful_words"
   ]
  },
  {
   "cell_type": "code",
   "execution_count": 90,
   "id": "d2d672c4",
   "metadata": {},
   "outputs": [
    {
     "name": "stdout",
     "output_type": "stream",
     "text": [
      "['bothered', 'much']\n"
     ]
    }
   ],
   "source": [
    "# Testing stopwords removal\n",
    "text = \"i am not bothered about her very much\".split()\n",
    "\n",
    "useful_text = remove_stopwords(text, sw)\n",
    "print(useful_text)"
   ]
  },
  {
   "cell_type": "markdown",
   "id": "c043b64f",
   "metadata": {},
   "source": [
    "#### Regex (Regular Expression) Based Tokensation"
   ]
  },
  {
   "cell_type": "code",
   "execution_count": 91,
   "id": "8e618279",
   "metadata": {},
   "outputs": [],
   "source": [
    "sentence = \"Send all the 50 documents related to chapters 1,2,3 at divij@cb.com\""
   ]
  },
  {
   "cell_type": "code",
   "execution_count": 92,
   "id": "6492b165",
   "metadata": {},
   "outputs": [],
   "source": [
    "from nltk.tokenize import RegexpTokenizer"
   ]
  },
  {
   "cell_type": "code",
   "execution_count": 93,
   "id": "e2491e21",
   "metadata": {},
   "outputs": [
    {
     "data": {
      "text/plain": [
       "['Send',\n",
       " 'all',\n",
       " 'the',\n",
       " 'documents',\n",
       " 'related',\n",
       " 'to',\n",
       " 'chapters',\n",
       " 'at',\n",
       " 'divij@cb.com']"
      ]
     },
     "execution_count": 93,
     "metadata": {},
     "output_type": "execute_result"
    }
   ],
   "source": [
    "tokenizer = RegexpTokenizer('[a-zA-Z@.]+')\n",
    "useful_text = tokenizer.tokenize(sentence)\n",
    "useful_text"
   ]
  },
  {
   "cell_type": "markdown",
   "id": "b4cfcddc",
   "metadata": {},
   "source": [
    "### 3. Stemming\n",
    "- Process that transforms particular words(verbs,plurals)into their radical form\n",
    "- Preserve the semantics of the sentence without increasing the number of unique tokens\n",
    "- Example - jumps, jumping, jumped, jump ==> jump"
   ]
  },
  {
   "cell_type": "code",
   "execution_count": 94,
   "id": "ab60f1f1",
   "metadata": {},
   "outputs": [],
   "source": [
    "text= \"\"\"Foxes love to make jumps.The quick brown fox was seen jumping over the \n",
    "        lovely dog from a 6ft feet high wall\"\"\""
   ]
  },
  {
   "cell_type": "code",
   "execution_count": 95,
   "id": "0f6c31e8",
   "metadata": {},
   "outputs": [],
   "source": [
    "from nltk.stem.snowball import SnowballStemmer, PorterStemmer\n",
    "from nltk.stem.lancaster import LancasterStemmer\n",
    "#Snowball Stemmer, Porter, Lancaster Stemmer"
   ]
  },
  {
   "cell_type": "code",
   "execution_count": 96,
   "id": "7e3641e9",
   "metadata": {},
   "outputs": [
    {
     "data": {
      "text/plain": [
       "'jump'"
      ]
     },
     "execution_count": 96,
     "metadata": {},
     "output_type": "execute_result"
    }
   ],
   "source": [
    "ps = PorterStemmer()\n",
    "ps.stem('jumping')"
   ]
  },
  {
   "cell_type": "code",
   "execution_count": 97,
   "id": "1923b0d4",
   "metadata": {},
   "outputs": [
    {
     "data": {
      "text/plain": [
       "'jump'"
      ]
     },
     "execution_count": 97,
     "metadata": {},
     "output_type": "execute_result"
    }
   ],
   "source": [
    "ps.stem('jumps')"
   ]
  },
  {
   "cell_type": "code",
   "execution_count": 114,
   "id": "33d7e85a",
   "metadata": {},
   "outputs": [
    {
     "name": "stdout",
     "output_type": "stream",
     "text": [
      "love\n",
      "love\n"
     ]
    }
   ],
   "source": [
    "print(ps.stem('lovely'))\n",
    "print(ps.stem('loving'))"
   ]
  },
  {
   "cell_type": "code",
   "execution_count": 113,
   "id": "0583dea5",
   "metadata": {},
   "outputs": [
    {
     "name": "stdout",
     "output_type": "stream",
     "text": [
      "love\n",
      "jump\n"
     ]
    }
   ],
   "source": [
    "# Snowball Stemmer\n",
    "ss = SnowballStemmer('english')\n",
    "print(ss.stem('lovely'))\n",
    "print(ss.stem('jumping'))"
   ]
  },
  {
   "cell_type": "code",
   "execution_count": 115,
   "id": "f793ba00",
   "metadata": {},
   "outputs": [
    {
     "data": {
      "text/plain": [
       "'jumping'"
      ]
     },
     "execution_count": 115,
     "metadata": {},
     "output_type": "execute_result"
    }
   ],
   "source": [
    "## Lemmatization\n",
    "from nltk.stem import WordNetLemmatizer\n",
    "\n",
    "wn = WordNetLemmatizer()\n",
    "wn.lemmatize('jumping')"
   ]
  },
  {
   "cell_type": "markdown",
   "id": "af562fbd",
   "metadata": {},
   "source": [
    "### 4. Building a Vocab and Vectorization"
   ]
  },
  {
   "cell_type": "code",
   "execution_count": 101,
   "id": "9c675233",
   "metadata": {},
   "outputs": [],
   "source": [
    "# Sample Corpus - Contains 4 Documents, each document can have 1 or more sentences\n",
    "corpus = [\n",
    "        'Indian cricket team will wins World Cup, says Capt. Virat Kohli. World cup will be held at Sri Lanka.',\n",
    "        'We will win next Lok Sabha Elections, says confident Indian PM',\n",
    "        'The nobel laurate won the hearts of the people.',\n",
    "        'The movie Raazi is an exciting Indian Spy thriller based upon a real story.'\n",
    "]"
   ]
  },
  {
   "cell_type": "code",
   "execution_count": 102,
   "id": "b6ea104d",
   "metadata": {},
   "outputs": [],
   "source": [
    "from sklearn.feature_extraction.text import CountVectorizer"
   ]
  },
  {
   "cell_type": "code",
   "execution_count": 118,
   "id": "644e490f",
   "metadata": {},
   "outputs": [
    {
     "name": "stdout",
     "output_type": "stream",
     "text": [
      "42\n",
      "[0 1 0 1 1 0 1 2 0 0 0 1 1 0 1 1 0 0 0 0 0 0 0 0 0 0 0 1 0 1 0 1 0 0 0 1 0\n",
      " 2 0 1 0 2]\n"
     ]
    }
   ],
   "source": [
    "cv = CountVectorizer()\n",
    "vectorized_corpus = cv.fit_transform(corpus)\n",
    "vectorized_corpus = vectorized_corpus.toarray()\n",
    "\n",
    "print(len(vectorized_corpus[0]))\n",
    "print(vectorized_corpus[0])"
   ]
  },
  {
   "cell_type": "code",
   "execution_count": 104,
   "id": "c34944f4",
   "metadata": {},
   "outputs": [
    {
     "name": "stdout",
     "output_type": "stream",
     "text": [
      "{'indian': 12, 'cricket': 6, 'team': 31, 'will': 37, 'wins': 39, 'world': 41, 'cup': 7, 'says': 27, 'capt': 4, 'virat': 35, 'kohli': 14, 'be': 3, 'held': 11, 'at': 1, 'sri': 29, 'lanka': 15, 'we': 36, 'win': 38, 'next': 19, 'lok': 17, 'sabha': 26, 'elections': 8, 'confident': 5, 'pm': 23, 'the': 32, 'nobel': 20, 'laurate': 16, 'won': 40, 'hearts': 10, 'of': 21, 'people': 22, 'movie': 18, 'raazi': 24, 'is': 13, 'an': 0, 'exciting': 9, 'spy': 28, 'thriller': 33, 'based': 2, 'upon': 34, 'real': 25, 'story': 30} 42\n"
     ]
    }
   ],
   "source": [
    "print(cv.vocabulary_, len(cv.vocabulary_.keys()))"
   ]
  },
  {
   "cell_type": "code",
   "execution_count": 105,
   "id": "88e1746b",
   "metadata": {},
   "outputs": [
    {
     "data": {
      "text/plain": [
       "array([0, 0, 0, 0, 0, 0, 0, 0, 0, 0, 1, 0, 0, 0, 0, 0, 1, 0, 0, 0, 1, 1,\n",
       "       1, 0, 0, 0, 0, 0, 0, 0, 0, 0, 3, 0, 0, 0, 0, 0, 0, 0, 1, 0])"
      ]
     },
     "execution_count": 105,
     "metadata": {},
     "output_type": "execute_result"
    }
   ],
   "source": [
    "# Reverse Mapping!\n",
    "numbers = vectorized_corpus[2]\n",
    "numbers"
   ]
  },
  {
   "cell_type": "code",
   "execution_count": 119,
   "id": "81b639da",
   "metadata": {},
   "outputs": [
    {
     "name": "stdout",
     "output_type": "stream",
     "text": [
      "[array(['hearts', 'laurate', 'nobel', 'of', 'people', 'the', 'won'],\n",
      "      dtype='<U9')]\n"
     ]
    }
   ],
   "source": [
    "# Reshape numbers into 2D array with 1 sample\n",
    "numbers = numbers.reshape(1, -1)  # or numbers[np.newaxis, :]\n",
    "s = cv.inverse_transform(numbers)\n",
    "print(s)"
   ]
  },
  {
   "cell_type": "markdown",
   "id": "9640e149",
   "metadata": {},
   "source": [
    "#### Vectorization with Stopword Removal"
   ]
  },
  {
   "cell_type": "code",
   "execution_count": 107,
   "id": "d2fd6f1f",
   "metadata": {},
   "outputs": [],
   "source": [
    "def myTokenizer(document):\n",
    "    words = tokenizer.tokenize(document.lower())\n",
    "    # Remove Stopwords\n",
    "    words = remove_stopwords(words,sw)\n",
    "    return words"
   ]
  },
  {
   "cell_type": "code",
   "execution_count": 120,
   "id": "aa8285c6",
   "metadata": {},
   "outputs": [
    {
     "data": {
      "text/plain": [
       "['send', 'documents', 'related', 'chapters', 'divij@cb.com']"
      ]
     },
     "execution_count": 120,
     "metadata": {},
     "output_type": "execute_result"
    }
   ],
   "source": [
    "myTokenizer(sentence)\n",
    "#print(sentence)"
   ]
  },
  {
   "cell_type": "code",
   "execution_count": 109,
   "id": "c8c44631",
   "metadata": {},
   "outputs": [],
   "source": [
    "cv = CountVectorizer(tokenizer=myTokenizer)\n"
   ]
  },
  {
   "cell_type": "code",
   "execution_count": 110,
   "id": "e8f2873a",
   "metadata": {},
   "outputs": [
    {
     "name": "stdout",
     "output_type": "stream",
     "text": [
      "[[0 1 0 1 2 0 0 0 1 1 1 1 0 0 0 0 0 0 0 0 0 0 1 0 1 0 1 0 0 1 0 1 2]\n",
      " [0 0 1 0 0 1 0 0 0 1 0 0 0 1 0 1 0 0 1 0 0 1 1 0 0 0 0 0 0 0 1 0 0]\n",
      " [0 0 0 0 0 0 0 1 0 0 0 0 1 0 0 0 1 1 0 0 0 0 0 0 0 0 0 0 0 0 0 0 0]\n",
      " [1 0 0 0 0 0 1 0 0 1 0 0 0 0 1 0 0 0 0 1 1 0 0 1 0 1 0 1 1 0 0 0 0]]\n",
      "33\n"
     ]
    },
    {
     "name": "stderr",
     "output_type": "stream",
     "text": [
      "c:\\Users\\divij\\anaconda3\\envs\\python_course\\Lib\\site-packages\\sklearn\\feature_extraction\\text.py:517: UserWarning: The parameter 'token_pattern' will not be used since 'tokenizer' is not None'\n",
      "  warnings.warn(\n"
     ]
    }
   ],
   "source": [
    "vectorized_corpus = cv.fit_transform(corpus).toarray()\n",
    "print(vectorized_corpus)\n",
    "print(len(vectorized_corpus[0]))\n"
   ]
  },
  {
   "cell_type": "code",
   "execution_count": 111,
   "id": "cc988317",
   "metadata": {},
   "outputs": [
    {
     "data": {
      "text/plain": [
       "[array(['capt.', 'cricket', 'cup', 'held', 'indian', 'kohli.', 'lanka.',\n",
       "        'says', 'sri', 'team', 'virat', 'wins', 'world'], dtype='<U9'),\n",
       " array(['confident', 'elections', 'indian', 'lok', 'next', 'pm', 'sabha',\n",
       "        'says', 'win'], dtype='<U9'),\n",
       " array(['hearts', 'laurate', 'nobel', 'people.'], dtype='<U9'),\n",
       " array(['based', 'exciting', 'indian', 'movie', 'raazi', 'real', 'spy',\n",
       "        'story.', 'thriller', 'upon'], dtype='<U9')]"
      ]
     },
     "execution_count": 111,
     "metadata": {},
     "output_type": "execute_result"
    }
   ],
   "source": [
    "cv.inverse_transform(vectorized_corpus)\n"
   ]
  },
  {
   "cell_type": "code",
   "execution_count": 112,
   "id": "e84e10bb",
   "metadata": {},
   "outputs": [],
   "source": [
    "# For Test Data\n",
    "test_corpus = [\n",
    "        'Indian cricket rock !',        \n",
    "]"
   ]
  },
  {
   "cell_type": "code",
   "execution_count": null,
   "id": "86294ff9",
   "metadata": {},
   "outputs": [
    {
     "data": {
      "text/plain": [
       "array([[0, 0, 0, 1, 0, 0, 0, 0, 0, 1, 0, 0, 0, 0, 0, 0, 0, 0, 0, 0, 0, 0,\n",
       "        0, 0, 0, 0, 0, 0, 0, 0, 0, 0, 0]])"
      ]
     },
     "execution_count": 69,
     "metadata": {},
     "output_type": "execute_result"
    }
   ],
   "source": [
    "cv.transform(test_corpus).toarray()"
   ]
  },
  {
   "cell_type": "markdown",
   "id": "31178840",
   "metadata": {},
   "source": [
    "### More Ways to Create Features\n",
    "- Unigram - every word as a feature\n",
    "- Bigrams\n",
    "- Trigrams\n",
    "- n-grams\n",
    "- TF-IDF Normalisation"
   ]
  },
  {
   "cell_type": "code",
   "execution_count": 121,
   "id": "7e2781a3",
   "metadata": {},
   "outputs": [],
   "source": [
    "sent_1  = [\"this is good movie\"]\n",
    "sent_2 = [\"this is good movie but actor is not present\"]\n",
    "sent_3 = [\"this is not good movie\"]"
   ]
  },
  {
   "cell_type": "code",
   "execution_count": 124,
   "id": "e4d20e21",
   "metadata": {},
   "outputs": [],
   "source": [
    "cv = CountVectorizer(ngram_range=(1,3))"
   ]
  },
  {
   "cell_type": "code",
   "execution_count": 125,
   "id": "736d9d5e",
   "metadata": {},
   "outputs": [
    {
     "data": {
      "text/plain": [
       "array([[0, 0, 0, 0, 0, 0, 1, 1, 0, 1, 1, 1, 0, 0, 1, 0, 0, 0, 0, 0, 1, 1,\n",
       "        1],\n",
       "       [1, 1, 1, 1, 1, 1, 1, 1, 1, 2, 1, 1, 1, 1, 1, 1, 1, 1, 1, 1, 1, 1,\n",
       "        1]])"
      ]
     },
     "execution_count": 125,
     "metadata": {},
     "output_type": "execute_result"
    }
   ],
   "source": [
    "docs = [sent_1[0],sent_2[0]]\n",
    "cv.fit_transform(docs).toarray()"
   ]
  },
  {
   "cell_type": "code",
   "execution_count": 126,
   "id": "1b4e738e",
   "metadata": {},
   "outputs": [
    {
     "data": {
      "text/plain": [
       "{'this': 20,\n",
       " 'is': 9,\n",
       " 'good': 6,\n",
       " 'movie': 14,\n",
       " 'this is': 21,\n",
       " 'is good': 10,\n",
       " 'good movie': 7,\n",
       " 'this is good': 22,\n",
       " 'is good movie': 11,\n",
       " 'but': 3,\n",
       " 'actor': 0,\n",
       " 'not': 17,\n",
       " 'present': 19,\n",
       " 'movie but': 15,\n",
       " 'but actor': 4,\n",
       " 'actor is': 1,\n",
       " 'is not': 12,\n",
       " 'not present': 18,\n",
       " 'good movie but': 8,\n",
       " 'movie but actor': 16,\n",
       " 'but actor is': 5,\n",
       " 'actor is not': 2,\n",
       " 'is not present': 13}"
      ]
     },
     "execution_count": 126,
     "metadata": {},
     "output_type": "execute_result"
    }
   ],
   "source": [
    "cv.vocabulary_"
   ]
  },
  {
   "cell_type": "markdown",
   "id": "1c4a384e",
   "metadata": {},
   "source": [
    "#### Tf-idf Normalisation\n",
    "- Avoid features that occur very often, becauase they contain less information\n",
    "- Information decreases as the number of occurences increases across different type of documents\n",
    "- So we define another term - term-document-frequency which associates a weight with every term"
   ]
  },
  {
   "cell_type": "code",
   "execution_count": null,
   "id": "f548e172",
   "metadata": {},
   "outputs": [],
   "source": [
    "sent_1  = \"this is good movie\"\n",
    "sent_2 = \"this was good movie\"\n",
    "sent_3 = \"this is not good movie\"\n",
    "\n",
    "corpus = [sent_1,sent_2,sent_3]"
   ]
  },
  {
   "cell_type": "code",
   "execution_count": null,
   "id": "40260114",
   "metadata": {},
   "outputs": [],
   "source": [
    "from sklearn.feature_extraction.text import TfidfVectorizer"
   ]
  },
  {
   "cell_type": "code",
   "execution_count": null,
   "id": "19d21161",
   "metadata": {},
   "outputs": [
    {
     "name": "stdout",
     "output_type": "stream",
     "text": [
      "[[0.46333427 0.59662724 0.46333427 0.         0.46333427 0.        ]\n",
      " [0.41285857 0.         0.41285857 0.         0.41285857 0.69903033]\n",
      " [0.3645444  0.46941728 0.3645444  0.61722732 0.3645444  0.        ]]\n"
     ]
    }
   ],
   "source": [
    "tfidf = TfidfVectorizer()\n",
    "\n",
    "vc = tfidf.fit_transform(corpus).toarray()\n",
    "print(vc)"
   ]
  },
  {
   "cell_type": "code",
   "execution_count": null,
   "id": "65f283ad",
   "metadata": {},
   "outputs": [],
   "source": [
    "tfidf.vocabulary_"
   ]
  },
  {
   "cell_type": "code",
   "execution_count": null,
   "id": "a3d4b67d",
   "metadata": {},
   "outputs": [
    {
     "data": {
      "text/plain": [
       "{'!', '.', '?', 'Blocks', 'Coding', 'Hey', 'Welcome', 'to'}"
      ]
     },
     "execution_count": 128,
     "metadata": {},
     "output_type": "execute_result"
    }
   ],
   "source": []
  }
 ],
 "metadata": {
  "kernelspec": {
   "display_name": "python_course",
   "language": "python",
   "name": "python3"
  },
  "language_info": {
   "codemirror_mode": {
    "name": "ipython",
    "version": 3
   },
   "file_extension": ".py",
   "mimetype": "text/x-python",
   "name": "python",
   "nbconvert_exporter": "python",
   "pygments_lexer": "ipython3",
   "version": "3.11.13"
  }
 },
 "nbformat": 4,
 "nbformat_minor": 5
}

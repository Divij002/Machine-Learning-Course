{
 "cells": [
  {
   "cell_type": "markdown",
   "id": "a676816e",
   "metadata": {},
   "source": [
    "# Python Intro "
   ]
  },
  {
   "cell_type": "code",
   "execution_count": null,
   "id": "778f9113",
   "metadata": {},
   "outputs": [
    {
     "name": "stdout",
     "output_type": "stream",
     "text": [
      "You entered the following numbers: [0, 1, 3, 2, 5]\n"
     ]
    }
   ],
   "source": [
    "#Input Numbers and print pokemon name assigned to that number\n",
    "\n",
    "numbers_char = input(\"Enter numbers separated by spaces: \")\n",
    "\n",
    "numbers_char_list = numbers_char.split()\n",
    "\n",
    "numbers_list_int = [int(x) for x in numbers_char_list] #List Comprehension\n",
    "\n",
    "print(\"You entered the following numbers:\", numbers_list_int)\n",
    "\n",
    "\n",
    "\n",
    "# we can use numbers_list_int = [int(x) for x in input().split()] to combine the input and conversion in one line\n"
   ]
  },
  {
   "cell_type": "markdown",
   "id": "109bd44a",
   "metadata": {},
   "source": [
    "### Dictionary"
   ]
  },
  {
   "cell_type": "code",
   "execution_count": 10,
   "id": "4f67baec",
   "metadata": {},
   "outputs": [
    {
     "name": "stdout",
     "output_type": "stream",
     "text": [
      "No Pokemon found for number 0\n",
      "Bulbasaur\n",
      "Venusaur\n",
      "Ivysaur\n",
      "Charmeleon\n"
     ]
    }
   ],
   "source": [
    "\n",
    "pokemon_names_dic = {    1: \"Bulbasaur\",\n",
    "                        2: \"Ivysaur\",\n",
    "                        3: \"Venusaur\",\n",
    "                        4: \"Charmander\",\n",
    "                        5: \"Charmeleon\",\n",
    "                        6: \"Charizard\",}\n",
    "\n",
    "for i in numbers_list_int:\n",
    "    if i in pokemon_names_dic:\n",
    "        print(pokemon_names_dic[i])\n",
    "    else:\n",
    "        print(f\"No Pokemon found for number {i}\")"
   ]
  },
  {
   "cell_type": "markdown",
   "id": "dbf0f9dd",
   "metadata": {},
   "source": [
    "### List"
   ]
  },
  {
   "cell_type": "code",
   "execution_count": 17,
   "id": "e53807b6",
   "metadata": {},
   "outputs": [
    {
     "name": "stdout",
     "output_type": "stream",
     "text": [
      "Bulbasaur\n",
      "Ivysaur\n",
      "Charmander\n",
      "Venusaur\n",
      "Charizard\n"
     ]
    }
   ],
   "source": [
    "pokemon_names_list = [\"Bulbasaur\", \"Ivysaur\", \"Venusaur\", \"Charmander\", \"Charmeleon\", \"Charizard\"]\n",
    "\n",
    "for i in numbers_list_int:\n",
    "    if i >= len(pokemon_names_list):\n",
    "        print(\"No pokemon found\")\n",
    "    else:\n",
    "        print(pokemon_names_list[i])"
   ]
  },
  {
   "cell_type": "markdown",
   "id": "abcc9b95",
   "metadata": {},
   "source": [
    "### Functions"
   ]
  },
  {
   "cell_type": "code",
   "execution_count": 18,
   "id": "ca20101c",
   "metadata": {},
   "outputs": [
    {
     "name": "stdout",
     "output_type": "stream",
     "text": [
      "Bulbasaur\n",
      "Ivysaur\n",
      "Charmander\n",
      "Venusaur\n",
      "Charizard\n"
     ]
    }
   ],
   "source": [
    "def print_pokemon_name(numbers):\n",
    "    pokemon_names_list = [\"Bulbasaur\", \"Ivysaur\", \"Venusaur\", \"Charmander\", \"Charmeleon\", \"Charizard\"]\n",
    "    for i in numbers:\n",
    "        if i >= len(pokemon_names_list):\n",
    "            print(\"No pokemon found\")\n",
    "        else:\n",
    "            print(pokemon_names_list[i])\n",
    "\n",
    "    return\n",
    "\n",
    "print_pokemon_name(numbers_list_int)"
   ]
  }
 ],
 "metadata": {
  "kernelspec": {
   "display_name": "python_course",
   "language": "python",
   "name": "python3"
  },
  "language_info": {
   "codemirror_mode": {
    "name": "ipython",
    "version": 3
   },
   "file_extension": ".py",
   "mimetype": "text/x-python",
   "name": "python",
   "nbconvert_exporter": "python",
   "pygments_lexer": "ipython3",
   "version": "3.11.13"
  }
 },
 "nbformat": 4,
 "nbformat_minor": 5
}

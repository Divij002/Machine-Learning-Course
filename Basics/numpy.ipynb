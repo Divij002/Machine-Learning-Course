{
 "cells": [
  {
   "cell_type": "markdown",
   "id": "eb89c64d",
   "metadata": {},
   "source": [
    "# Numpy"
   ]
  },
  {
   "cell_type": "code",
   "execution_count": 1,
   "id": "1890a1f5",
   "metadata": {},
   "outputs": [],
   "source": [
    "import numpy as np"
   ]
  },
  {
   "cell_type": "code",
   "execution_count": 3,
   "id": "9066e3f4",
   "metadata": {},
   "outputs": [
    {
     "name": "stdout",
     "output_type": "stream",
     "text": [
      "<class 'numpy.ndarray'>\n"
     ]
    }
   ],
   "source": [
    "#Numpy Array\n",
    "a = np.array([1, 2, 3, 4, 5])\n",
    "print(type(a))"
   ]
  },
  {
   "cell_type": "code",
   "execution_count": 5,
   "id": "1f73ecb8",
   "metadata": {},
   "outputs": [
    {
     "data": {
      "text/plain": [
       "(2, 3)"
      ]
     },
     "execution_count": 5,
     "metadata": {},
     "output_type": "execute_result"
    }
   ],
   "source": [
    "#2D Array\n",
    "b = np.array([[1, 2, 3], [4, 5, 6]])\n",
    "b.shape"
   ]
  },
  {
   "cell_type": "code",
   "execution_count": null,
   "id": "93bae93b",
   "metadata": {},
   "outputs": [
    {
     "name": "stdout",
     "output_type": "stream",
     "text": [
      "Array b : \n",
      " [[1 2 3]\n",
      " [4 5 6]]\n",
      "Transpose of array b : \n",
      " [[1 4]\n",
      " [2 5]\n",
      " [3 6]]\n"
     ]
    },
    {
     "data": {
      "text/plain": [
       "array([[14, 32],\n",
       "       [32, 77]])"
      ]
     },
     "execution_count": 10,
     "metadata": {},
     "output_type": "execute_result"
    }
   ],
   "source": [
    "#Dot product\n",
    "print(\"Array b : \\n\", b)\n",
    "print(\"Transpose of array b : \\n\",b.T)\n",
    "\n",
    "np.dot(b, b.T)"
   ]
  },
  {
   "cell_type": "code",
   "execution_count": 17,
   "id": "9dbca2c8",
   "metadata": {},
   "outputs": [
    {
     "name": "stdout",
     "output_type": "stream",
     "text": [
      "Random Matrix : \n",
      " [[69 63 87 83 69]\n",
      " [81 84 80 62 71]\n",
      " [73 73 90 71 60]\n",
      " [75 66 87 82 71]\n",
      " [85 89 99 96 90]]\n",
      "Max value in the matrix :  99  at position  22\n",
      "Min value in the matrix :  60  at position  14\n",
      "Sum of all elements in the matrix :  1956\n",
      "unique values in the matrix :  [60 62 63 66 69 71 73 75 80 81 82 83 84 85 87 89 90 96 99]\n"
     ]
    }
   ],
   "source": [
    "#Creating random arrays\n",
    "matrix = np.random.randint(60,100,(5,5))\n",
    "print(\"Random Matrix : \\n\", matrix)\n",
    "\n",
    "#Finding the max and min values in the matrix\n",
    "print(\"Max value in the matrix : \", np.max(matrix), \" at position \", np.argmax(matrix))\n",
    "print(\"Min value in the matrix : \", np.min(matrix) , \" at position \", np.argmin(matrix))\n",
    "print(\"Sum of all elements in the matrix : \", np.sum(matrix))\n",
    "print(\"unique values in the matrix : \", np.unique(matrix))"
   ]
  },
  {
   "cell_type": "code",
   "execution_count": null,
   "id": "c4cbcb6f",
   "metadata": {},
   "outputs": [
    {
     "name": "stdout",
     "output_type": "stream",
     "text": [
      "Array b :  (array([-8,  0,  1,  2,  3,  4,  5,  6,  8, 10]), array([1, 1, 1, 1, 1, 2, 1, 4, 1, 2]))\n"
     ]
    }
   ],
   "source": [
    "#Finding unique values in an array with counts\n",
    "a = np.array([1, 0, 10, 10, -8, 6, 6, 6, 6, 8, 4, 2, 3, 4, 5]) \n",
    "b = np.unique(a, return_counts=True)\n",
    "print(\"Array b : \", b)"
   ]
  },
  {
   "cell_type": "code",
   "execution_count": 22,
   "id": "c4a652cc",
   "metadata": {},
   "outputs": [
    {
     "data": {
      "text/plain": [
       "array([[73, 90],\n",
       "       [66, 87]], dtype=int32)"
      ]
     },
     "execution_count": 22,
     "metadata": {},
     "output_type": "execute_result"
    }
   ],
   "source": [
    "#Slicing an array\n",
    "matrix[2:4, 1:3]  # Slicing rows 2 to 3 and columns 1 to 2"
   ]
  }
 ],
 "metadata": {
  "kernelspec": {
   "display_name": "python_course",
   "language": "python",
   "name": "python3"
  },
  "language_info": {
   "codemirror_mode": {
    "name": "ipython",
    "version": 3
   },
   "file_extension": ".py",
   "mimetype": "text/x-python",
   "name": "python",
   "nbconvert_exporter": "python",
   "pygments_lexer": "ipython3",
   "version": "3.11.13"
  }
 },
 "nbformat": 4,
 "nbformat_minor": 5
}
